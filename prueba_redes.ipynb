{
 "cells": [
  {
   "cell_type": "code",
   "execution_count": 1,
   "metadata": {},
   "outputs": [],
   "source": [
    "#Importando librerias \n",
    "\n",
    "import pandas as pd\n",
    "import numpy as np\n",
    "import matplotlib.pyplot as plt \n",
    "%matplotlib inline\n",
    "import seaborn as sns"
   ]
  },
  {
   "cell_type": "code",
   "execution_count": 2,
   "metadata": {},
   "outputs": [],
   "source": [
    "diarios = pd.read_csv('/Users/rodolfopardo/Downloads/diarios30.csv')"
   ]
  },
  {
   "cell_type": "code",
   "execution_count": 3,
   "metadata": {},
   "outputs": [
    {
     "data": {
      "text/html": [
       "<div>\n",
       "<style scoped>\n",
       "    .dataframe tbody tr th:only-of-type {\n",
       "        vertical-align: middle;\n",
       "    }\n",
       "\n",
       "    .dataframe tbody tr th {\n",
       "        vertical-align: top;\n",
       "    }\n",
       "\n",
       "    .dataframe thead th {\n",
       "        text-align: right;\n",
       "    }\n",
       "</style>\n",
       "<table border=\"1\" class=\"dataframe\">\n",
       "  <thead>\n",
       "    <tr style=\"text-align: right;\">\n",
       "      <th></th>\n",
       "      <th>Page Name</th>\n",
       "      <th>User Name</th>\n",
       "      <th>Page Id</th>\n",
       "      <th>Page Likes at Posting</th>\n",
       "      <th>Created</th>\n",
       "      <th>Type</th>\n",
       "      <th>Likes</th>\n",
       "      <th>Comments</th>\n",
       "      <th>Shares</th>\n",
       "      <th>Love</th>\n",
       "      <th>...</th>\n",
       "      <th>Video Length</th>\n",
       "      <th>URL</th>\n",
       "      <th>Message</th>\n",
       "      <th>Link</th>\n",
       "      <th>Final Link</th>\n",
       "      <th>Link Text</th>\n",
       "      <th>Description</th>\n",
       "      <th>Sponsor Id</th>\n",
       "      <th>Sponsor Name</th>\n",
       "      <th>Overperforming Score</th>\n",
       "    </tr>\n",
       "  </thead>\n",
       "  <tbody>\n",
       "    <tr>\n",
       "      <th>0</th>\n",
       "      <td>Infobae</td>\n",
       "      <td>Infobae</td>\n",
       "      <td>34839376970</td>\n",
       "      <td>2868135</td>\n",
       "      <td>2019-09-01 08:20:00 ART</td>\n",
       "      <td>Link</td>\n",
       "      <td>72408</td>\n",
       "      <td>11344</td>\n",
       "      <td>43419</td>\n",
       "      <td>1059</td>\n",
       "      <td>...</td>\n",
       "      <td>NaN</td>\n",
       "      <td>https://www.facebook.com/Infobae/posts/1015722...</td>\n",
       "      <td>Nicolás Maduro multiplica los beneficios a sus...</td>\n",
       "      <td>https://www.infobae.com/america/venezuela/2019...</td>\n",
       "      <td>NaN</td>\n",
       "      <td>Cómo Rusia y China se apropian del petróleo de...</td>\n",
       "      <td>Nicolás Maduro multiplica los beneficios a sus...</td>\n",
       "      <td>NaN</td>\n",
       "      <td>NaN</td>\n",
       "      <td>804.37</td>\n",
       "    </tr>\n",
       "    <tr>\n",
       "      <th>1</th>\n",
       "      <td>Diario UNO</td>\n",
       "      <td>diariouno</td>\n",
       "      <td>44941240420</td>\n",
       "      <td>1659635</td>\n",
       "      <td>2019-08-20 12:37:48 ART</td>\n",
       "      <td>Link</td>\n",
       "      <td>13157</td>\n",
       "      <td>2921</td>\n",
       "      <td>33295</td>\n",
       "      <td>8645</td>\n",
       "      <td>...</td>\n",
       "      <td>NaN</td>\n",
       "      <td>https://www.facebook.com/diariouno/posts/10157...</td>\n",
       "      <td>¡Aplausos para esta pequeña valiente! 👏❤️</td>\n",
       "      <td>https://www.diariouno.com.ar/sociedad/8-anos-s...</td>\n",
       "      <td>NaN</td>\n",
       "      <td>Tiene 8 años, superó 52 quimios y venció el cá...</td>\n",
       "      <td>Hay historias que merecen ser contadas, simple...</td>\n",
       "      <td>NaN</td>\n",
       "      <td>NaN</td>\n",
       "      <td>650.31</td>\n",
       "    </tr>\n",
       "    <tr>\n",
       "      <th>2</th>\n",
       "      <td>Televisión Pública Argentina</td>\n",
       "      <td>TVPublica</td>\n",
       "      <td>105921658046</td>\n",
       "      <td>1464632</td>\n",
       "      <td>2019-08-27 10:32:45 ART</td>\n",
       "      <td>Native Video</td>\n",
       "      <td>22782</td>\n",
       "      <td>1367</td>\n",
       "      <td>4814</td>\n",
       "      <td>5308</td>\n",
       "      <td>...</td>\n",
       "      <td>00:00:30</td>\n",
       "      <td>https://www.facebook.com/TVPublica/posts/10158...</td>\n",
       "      <td>A los 11 años tuvo un accidente con su bicicle...</td>\n",
       "      <td>https://www.facebook.com/TVPublica/videos/3878...</td>\n",
       "      <td>NaN</td>\n",
       "      <td>NaN</td>\n",
       "      <td>NaN</td>\n",
       "      <td>NaN</td>\n",
       "      <td>NaN</td>\n",
       "      <td>520.53</td>\n",
       "    </tr>\n",
       "    <tr>\n",
       "      <th>3</th>\n",
       "      <td>Infobae</td>\n",
       "      <td>Infobae</td>\n",
       "      <td>34839376970</td>\n",
       "      <td>2871194</td>\n",
       "      <td>2019-09-03 12:29:28 ART</td>\n",
       "      <td>Link</td>\n",
       "      <td>45092</td>\n",
       "      <td>6030</td>\n",
       "      <td>15337</td>\n",
       "      <td>1018</td>\n",
       "      <td>...</td>\n",
       "      <td>NaN</td>\n",
       "      <td>https://www.facebook.com/Infobae/posts/1015723...</td>\n",
       "      <td>LA HISTORIA DE SORM Es parte del aparato de es...</td>\n",
       "      <td>https://www.infobae.com/america/tecno/2019/09/...</td>\n",
       "      <td>NaN</td>\n",
       "      <td>El sistema de espionaje online de Vladimir Put...</td>\n",
       "      <td>SORM es parte del aparato de espionaje ruso. S...</td>\n",
       "      <td>NaN</td>\n",
       "      <td>NaN</td>\n",
       "      <td>503.52</td>\n",
       "    </tr>\n",
       "    <tr>\n",
       "      <th>4</th>\n",
       "      <td>Infobae</td>\n",
       "      <td>Infobae</td>\n",
       "      <td>34839376970</td>\n",
       "      <td>2865827</td>\n",
       "      <td>2019-08-30 11:13:35 ART</td>\n",
       "      <td>Link</td>\n",
       "      <td>49901</td>\n",
       "      <td>8402</td>\n",
       "      <td>18509</td>\n",
       "      <td>1313</td>\n",
       "      <td>...</td>\n",
       "      <td>NaN</td>\n",
       "      <td>https://www.facebook.com/Infobae/posts/1015722...</td>\n",
       "      <td>El Kremlin tiene un plan claro: intentar penet...</td>\n",
       "      <td>https://www.infobae.com/america/tecno/2019/08/...</td>\n",
       "      <td>NaN</td>\n",
       "      <td>Cómo funciona la maquinaria oculta de Vladimir...</td>\n",
       "      <td>El Kremlin tiene un plan claro: intentar penet...</td>\n",
       "      <td>NaN</td>\n",
       "      <td>NaN</td>\n",
       "      <td>487.15</td>\n",
       "    </tr>\n",
       "  </tbody>\n",
       "</table>\n",
       "<p>5 rows × 29 columns</p>\n",
       "</div>"
      ],
      "text/plain": [
       "                      Page Name  User Name       Page Id  \\\n",
       "0                       Infobae    Infobae   34839376970   \n",
       "1                    Diario UNO  diariouno   44941240420   \n",
       "2  Televisión Pública Argentina  TVPublica  105921658046   \n",
       "3                       Infobae    Infobae   34839376970   \n",
       "4                       Infobae    Infobae   34839376970   \n",
       "\n",
       "   Page Likes at Posting                  Created          Type  Likes  \\\n",
       "0                2868135  2019-09-01 08:20:00 ART          Link  72408   \n",
       "1                1659635  2019-08-20 12:37:48 ART          Link  13157   \n",
       "2                1464632  2019-08-27 10:32:45 ART  Native Video  22782   \n",
       "3                2871194  2019-09-03 12:29:28 ART          Link  45092   \n",
       "4                2865827  2019-08-30 11:13:35 ART          Link  49901   \n",
       "\n",
       "   Comments  Shares  Love  ...  Video Length  \\\n",
       "0     11344   43419  1059  ...           NaN   \n",
       "1      2921   33295  8645  ...           NaN   \n",
       "2      1367    4814  5308  ...      00:00:30   \n",
       "3      6030   15337  1018  ...           NaN   \n",
       "4      8402   18509  1313  ...           NaN   \n",
       "\n",
       "                                                 URL  \\\n",
       "0  https://www.facebook.com/Infobae/posts/1015722...   \n",
       "1  https://www.facebook.com/diariouno/posts/10157...   \n",
       "2  https://www.facebook.com/TVPublica/posts/10158...   \n",
       "3  https://www.facebook.com/Infobae/posts/1015723...   \n",
       "4  https://www.facebook.com/Infobae/posts/1015722...   \n",
       "\n",
       "                                             Message  \\\n",
       "0  Nicolás Maduro multiplica los beneficios a sus...   \n",
       "1          ¡Aplausos para esta pequeña valiente! 👏❤️   \n",
       "2  A los 11 años tuvo un accidente con su bicicle...   \n",
       "3  LA HISTORIA DE SORM Es parte del aparato de es...   \n",
       "4  El Kremlin tiene un plan claro: intentar penet...   \n",
       "\n",
       "                                                Link  Final Link  \\\n",
       "0  https://www.infobae.com/america/venezuela/2019...         NaN   \n",
       "1  https://www.diariouno.com.ar/sociedad/8-anos-s...         NaN   \n",
       "2  https://www.facebook.com/TVPublica/videos/3878...         NaN   \n",
       "3  https://www.infobae.com/america/tecno/2019/09/...         NaN   \n",
       "4  https://www.infobae.com/america/tecno/2019/08/...         NaN   \n",
       "\n",
       "                                           Link Text  \\\n",
       "0  Cómo Rusia y China se apropian del petróleo de...   \n",
       "1  Tiene 8 años, superó 52 quimios y venció el cá...   \n",
       "2                                                NaN   \n",
       "3  El sistema de espionaje online de Vladimir Put...   \n",
       "4  Cómo funciona la maquinaria oculta de Vladimir...   \n",
       "\n",
       "                                         Description  Sponsor Id  \\\n",
       "0  Nicolás Maduro multiplica los beneficios a sus...         NaN   \n",
       "1  Hay historias que merecen ser contadas, simple...         NaN   \n",
       "2                                                NaN         NaN   \n",
       "3  SORM es parte del aparato de espionaje ruso. S...         NaN   \n",
       "4  El Kremlin tiene un plan claro: intentar penet...         NaN   \n",
       "\n",
       "   Sponsor Name Overperforming Score  \n",
       "0           NaN               804.37  \n",
       "1           NaN               650.31  \n",
       "2           NaN               520.53  \n",
       "3           NaN               503.52  \n",
       "4           NaN               487.15  \n",
       "\n",
       "[5 rows x 29 columns]"
      ]
     },
     "execution_count": 3,
     "metadata": {},
     "output_type": "execute_result"
    }
   ],
   "source": [
    "diarios.head()"
   ]
  },
  {
   "cell_type": "code",
   "execution_count": 4,
   "metadata": {},
   "outputs": [
    {
     "data": {
      "text/plain": [
       "Index(['Page Name', 'User Name', 'Page Id', 'Page Likes at Posting', 'Created',\n",
       "       'Type', 'Likes', 'Comments', 'Shares', 'Love', 'Wow', 'Haha', 'Sad',\n",
       "       'Angry', 'Thankful', 'Video Share Status', 'Post Views', 'Total Views',\n",
       "       'Total Views for all Crossposts', 'Video Length', 'URL', 'Message',\n",
       "       'Link', 'Final Link', 'Link Text', 'Description', 'Sponsor Id',\n",
       "       'Sponsor Name', 'Overperforming Score'],\n",
       "      dtype='object')"
      ]
     },
     "execution_count": 4,
     "metadata": {},
     "output_type": "execute_result"
    }
   ],
   "source": [
    "diarios.columns"
   ]
  },
  {
   "cell_type": "code",
   "execution_count": 14,
   "metadata": {},
   "outputs": [
    {
     "data": {
      "text/plain": [
       "Clarín                2360\n",
       "TN Todo Noticias      2353\n",
       "Infobae               1893\n",
       "Radio Mitre AM 790    1862\n",
       "LA NACION             1720\n",
       "Diario Crónica        1379\n",
       "Vía Córdoba           1156\n",
       "Diario UNO            1103\n",
       "La Gaceta              819\n",
       "LaVoz.com.ar           801\n",
       "Name: Page Name, dtype: int64"
      ]
     },
     "execution_count": 14,
     "metadata": {},
     "output_type": "execute_result"
    }
   ],
   "source": [
    "diarios['Page Name'].value_counts().head(10)"
   ]
  },
  {
   "cell_type": "code",
   "execution_count": 29,
   "metadata": {},
   "outputs": [
    {
     "data": {
      "text/plain": [
       "'Hay historias que merecen ser contadas, simplemente porque son ejemplo de lucha, de aguante. Delfina tiene 8 años, atravesó 52 quimioterapias, cientos de estudios, intervenciones y consultas. Al final, esta pequeña tucumana venció el cáncer.'"
      ]
     },
     "execution_count": 29,
     "metadata": {},
     "output_type": "execute_result"
    }
   ],
   "source": [
    "diarios['Description'][1]"
   ]
  },
  {
   "cell_type": "code",
   "execution_count": 28,
   "metadata": {},
   "outputs": [
    {
     "data": {
      "text/plain": [
       "'Tiene 8 años, superó 52 quimios y venció el cáncer'"
      ]
     },
     "execution_count": 28,
     "metadata": {},
     "output_type": "execute_result"
    }
   ],
   "source": [
    "diarios['Link Text'][1]"
   ]
  },
  {
   "cell_type": "code",
   "execution_count": 27,
   "metadata": {},
   "outputs": [
    {
     "data": {
      "text/plain": [
       "'¡Aplausos para esta pequeña valiente! 👏❤️'"
      ]
     },
     "execution_count": 27,
     "metadata": {},
     "output_type": "execute_result"
    }
   ],
   "source": [
    "diarios['Message'][1]"
   ]
  },
  {
   "cell_type": "code",
   "execution_count": null,
   "metadata": {},
   "outputs": [],
   "source": []
  }
 ],
 "metadata": {
  "kernelspec": {
   "display_name": "Python 3",
   "language": "python",
   "name": "python3"
  },
  "language_info": {
   "codemirror_mode": {
    "name": "ipython",
    "version": 3
   },
   "file_extension": ".py",
   "mimetype": "text/x-python",
   "name": "python",
   "nbconvert_exporter": "python",
   "pygments_lexer": "ipython3",
   "version": "3.6.9"
  }
 },
 "nbformat": 4,
 "nbformat_minor": 2
}
